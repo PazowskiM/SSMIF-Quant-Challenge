{
  "nbformat": 4,
  "nbformat_minor": 0,
  "metadata": {
    "colab": {
      "provenance": [],
      "toc_visible": true
    },
    "kernelspec": {
      "name": "python3",
      "display_name": "Python 3"
    },
    "language_info": {
      "name": "python"
    }
  },
  "cells": [
    {
      "cell_type": "markdown",
      "source": [
        "# Asset Allocation Coding Challenge - Fall 2024"
      ],
      "metadata": {
        "id": "2qDgZ0KlCOId"
      }
    },
    {
      "cell_type": "code",
      "source": [
        "\"\"\"\n",
        "\n",
        "Your Name: Matthew Pazowski\n",
        "\n",
        "\"\"\""
      ],
      "metadata": {
        "id": "Kalo17tHEMrU"
      },
      "execution_count": null,
      "outputs": []
    },
    {
      "cell_type": "markdown",
      "source": [
        "The Asset Allocation team is dedicated to accurately predicting the behavior of the market sectors, and to providing optimal weights for these sectors in order to optimize holdings and exposures. Our goal, consistent with the rest of Quant, is to outperform the S&P 500 with higher returns and lower volatility. Asset Allocation is pillared on thorough research, creative modeling, and mathematical analysis."
      ],
      "metadata": {
        "id": "YoUQze4PDedu"
      }
    },
    {
      "cell_type": "markdown",
      "source": [
        "**Rules:**\n",
        "\n",
        "\n",
        "*   You are allowed to use ChatGPT, but you MUST cite it with a comment on each line written by it.\n",
        "*   Any code not written by you must be cited similarly.\n",
        "*   No machine learning is allowed for this challenge."
      ],
      "metadata": {
        "id": "Q-9imNQvFIaa"
      }
    },
    {
      "cell_type": "markdown",
      "source": [
        "**Hints:**\n",
        "\n",
        "\n",
        "*   Read all of the instructions carefully!\n",
        "*   Comment your code with as much detail as you can. The easier it is for us to follow, the better!\n",
        "*   Above everything else, we are looking to see that you can think creatively, and justify your thought process.\n",
        "*   Don't give up if you get stuck! It's better to submit something that's the best that you can do, instead of quitting and not submitting anything.\n",
        "\n"
      ],
      "metadata": {
        "id": "z7-eh_zhEW3-"
      }
    },
    {
      "cell_type": "markdown",
      "source": [
        "# Part 0: Data"
      ],
      "metadata": {
        "id": "-akn1NG1DGoV"
      }
    },
    {
      "cell_type": "markdown",
      "source": [
        "In the following cell, import any libraries you need."
      ],
      "metadata": {
        "id": "z7NpduvuDcZo"
      }
    },
    {
      "cell_type": "code",
      "source": [
        "import pandas as pd\n",
        "import numpy as np\n",
        "from google.colab import files\n",
        "uploaded = files.upload()\n"
      ],
      "metadata": {
        "id": "11KLCIBuDqE1",
        "colab": {
          "base_uri": "https://localhost:8080/",
          "height": 108
        },
        "outputId": "7eac8971-59cc-494c-e3aa-55c1d56e4b27"
      },
      "execution_count": 2,
      "outputs": [
        {
          "output_type": "display_data",
          "data": {
            "text/plain": [
              "<IPython.core.display.HTML object>"
            ],
            "text/html": [
              "\n",
              "     <input type=\"file\" id=\"files-aac756d7-3c1a-40df-95e1-a57e49287dff\" name=\"files[]\" multiple disabled\n",
              "        style=\"border:none\" />\n",
              "     <output id=\"result-aac756d7-3c1a-40df-95e1-a57e49287dff\">\n",
              "      Upload widget is only available when the cell has been executed in the\n",
              "      current browser session. Please rerun this cell to enable.\n",
              "      </output>\n",
              "      <script>// Copyright 2017 Google LLC\n",
              "//\n",
              "// Licensed under the Apache License, Version 2.0 (the \"License\");\n",
              "// you may not use this file except in compliance with the License.\n",
              "// You may obtain a copy of the License at\n",
              "//\n",
              "//      http://www.apache.org/licenses/LICENSE-2.0\n",
              "//\n",
              "// Unless required by applicable law or agreed to in writing, software\n",
              "// distributed under the License is distributed on an \"AS IS\" BASIS,\n",
              "// WITHOUT WARRANTIES OR CONDITIONS OF ANY KIND, either express or implied.\n",
              "// See the License for the specific language governing permissions and\n",
              "// limitations under the License.\n",
              "\n",
              "/**\n",
              " * @fileoverview Helpers for google.colab Python module.\n",
              " */\n",
              "(function(scope) {\n",
              "function span(text, styleAttributes = {}) {\n",
              "  const element = document.createElement('span');\n",
              "  element.textContent = text;\n",
              "  for (const key of Object.keys(styleAttributes)) {\n",
              "    element.style[key] = styleAttributes[key];\n",
              "  }\n",
              "  return element;\n",
              "}\n",
              "\n",
              "// Max number of bytes which will be uploaded at a time.\n",
              "const MAX_PAYLOAD_SIZE = 100 * 1024;\n",
              "\n",
              "function _uploadFiles(inputId, outputId) {\n",
              "  const steps = uploadFilesStep(inputId, outputId);\n",
              "  const outputElement = document.getElementById(outputId);\n",
              "  // Cache steps on the outputElement to make it available for the next call\n",
              "  // to uploadFilesContinue from Python.\n",
              "  outputElement.steps = steps;\n",
              "\n",
              "  return _uploadFilesContinue(outputId);\n",
              "}\n",
              "\n",
              "// This is roughly an async generator (not supported in the browser yet),\n",
              "// where there are multiple asynchronous steps and the Python side is going\n",
              "// to poll for completion of each step.\n",
              "// This uses a Promise to block the python side on completion of each step,\n",
              "// then passes the result of the previous step as the input to the next step.\n",
              "function _uploadFilesContinue(outputId) {\n",
              "  const outputElement = document.getElementById(outputId);\n",
              "  const steps = outputElement.steps;\n",
              "\n",
              "  const next = steps.next(outputElement.lastPromiseValue);\n",
              "  return Promise.resolve(next.value.promise).then((value) => {\n",
              "    // Cache the last promise value to make it available to the next\n",
              "    // step of the generator.\n",
              "    outputElement.lastPromiseValue = value;\n",
              "    return next.value.response;\n",
              "  });\n",
              "}\n",
              "\n",
              "/**\n",
              " * Generator function which is called between each async step of the upload\n",
              " * process.\n",
              " * @param {string} inputId Element ID of the input file picker element.\n",
              " * @param {string} outputId Element ID of the output display.\n",
              " * @return {!Iterable<!Object>} Iterable of next steps.\n",
              " */\n",
              "function* uploadFilesStep(inputId, outputId) {\n",
              "  const inputElement = document.getElementById(inputId);\n",
              "  inputElement.disabled = false;\n",
              "\n",
              "  const outputElement = document.getElementById(outputId);\n",
              "  outputElement.innerHTML = '';\n",
              "\n",
              "  const pickedPromise = new Promise((resolve) => {\n",
              "    inputElement.addEventListener('change', (e) => {\n",
              "      resolve(e.target.files);\n",
              "    });\n",
              "  });\n",
              "\n",
              "  const cancel = document.createElement('button');\n",
              "  inputElement.parentElement.appendChild(cancel);\n",
              "  cancel.textContent = 'Cancel upload';\n",
              "  const cancelPromise = new Promise((resolve) => {\n",
              "    cancel.onclick = () => {\n",
              "      resolve(null);\n",
              "    };\n",
              "  });\n",
              "\n",
              "  // Wait for the user to pick the files.\n",
              "  const files = yield {\n",
              "    promise: Promise.race([pickedPromise, cancelPromise]),\n",
              "    response: {\n",
              "      action: 'starting',\n",
              "    }\n",
              "  };\n",
              "\n",
              "  cancel.remove();\n",
              "\n",
              "  // Disable the input element since further picks are not allowed.\n",
              "  inputElement.disabled = true;\n",
              "\n",
              "  if (!files) {\n",
              "    return {\n",
              "      response: {\n",
              "        action: 'complete',\n",
              "      }\n",
              "    };\n",
              "  }\n",
              "\n",
              "  for (const file of files) {\n",
              "    const li = document.createElement('li');\n",
              "    li.append(span(file.name, {fontWeight: 'bold'}));\n",
              "    li.append(span(\n",
              "        `(${file.type || 'n/a'}) - ${file.size} bytes, ` +\n",
              "        `last modified: ${\n",
              "            file.lastModifiedDate ? file.lastModifiedDate.toLocaleDateString() :\n",
              "                                    'n/a'} - `));\n",
              "    const percent = span('0% done');\n",
              "    li.appendChild(percent);\n",
              "\n",
              "    outputElement.appendChild(li);\n",
              "\n",
              "    const fileDataPromise = new Promise((resolve) => {\n",
              "      const reader = new FileReader();\n",
              "      reader.onload = (e) => {\n",
              "        resolve(e.target.result);\n",
              "      };\n",
              "      reader.readAsArrayBuffer(file);\n",
              "    });\n",
              "    // Wait for the data to be ready.\n",
              "    let fileData = yield {\n",
              "      promise: fileDataPromise,\n",
              "      response: {\n",
              "        action: 'continue',\n",
              "      }\n",
              "    };\n",
              "\n",
              "    // Use a chunked sending to avoid message size limits. See b/62115660.\n",
              "    let position = 0;\n",
              "    do {\n",
              "      const length = Math.min(fileData.byteLength - position, MAX_PAYLOAD_SIZE);\n",
              "      const chunk = new Uint8Array(fileData, position, length);\n",
              "      position += length;\n",
              "\n",
              "      const base64 = btoa(String.fromCharCode.apply(null, chunk));\n",
              "      yield {\n",
              "        response: {\n",
              "          action: 'append',\n",
              "          file: file.name,\n",
              "          data: base64,\n",
              "        },\n",
              "      };\n",
              "\n",
              "      let percentDone = fileData.byteLength === 0 ?\n",
              "          100 :\n",
              "          Math.round((position / fileData.byteLength) * 100);\n",
              "      percent.textContent = `${percentDone}% done`;\n",
              "\n",
              "    } while (position < fileData.byteLength);\n",
              "  }\n",
              "\n",
              "  // All done.\n",
              "  yield {\n",
              "    response: {\n",
              "      action: 'complete',\n",
              "    }\n",
              "  };\n",
              "}\n",
              "\n",
              "scope.google = scope.google || {};\n",
              "scope.google.colab = scope.google.colab || {};\n",
              "scope.google.colab._files = {\n",
              "  _uploadFiles,\n",
              "  _uploadFilesContinue,\n",
              "};\n",
              "})(self);\n",
              "</script> "
            ]
          },
          "metadata": {}
        },
        {
          "output_type": "stream",
          "name": "stdout",
          "text": [
            "Saving AssetAllocationChallengePart2Data.xlsx to AssetAllocationChallengePart2Data.xlsx\n",
            "Saving CAPM_Challenge_Data.xlsx to CAPM_Challenge_Data.xlsx\n"
          ]
        }
      ]
    },
    {
      "cell_type": "markdown",
      "source": [
        "In the following cell, write your code to load and preprocess the data given to you for Part 1 of the challenge. All data collection for Part 1 should be done here."
      ],
      "metadata": {
        "id": "UtYwywvIGa0J"
      }
    },
    {
      "cell_type": "code",
      "source": [
        "# Load Part #1 data for the CAPM Model\n",
        "part1_data = pd.read_excel('CAPM_Challenge_Data.xlsx')\n"
      ],
      "metadata": {
        "id": "RBQ7YBwaGaZt"
      },
      "execution_count": 3,
      "outputs": []
    },
    {
      "cell_type": "markdown",
      "source": [
        "In the following cell, write your code to load and preprocess the data given to you for Part 2 of the challenge. If you decide to pull any other data for this model, do that here too. All data collection for Part 2 should be done here."
      ],
      "metadata": {
        "id": "wZp8hSLAGm2K"
      }
    },
    {
      "cell_type": "code",
      "source": [
        "# Load Part #2 data the 3-Factor Model\n",
        "part2_data = pd.read_excel('AssetAllocationChallengePart2Data.xlsx')"
      ],
      "metadata": {
        "id": "DyJb_bmIGmlW"
      },
      "execution_count": 4,
      "outputs": []
    },
    {
      "cell_type": "markdown",
      "source": [
        "In the following cell, write any comments about your code and reasoning, such as why you processed the data in a certain way, what you noticed, where you found any additional data (if you decide to do so), etc."
      ],
      "metadata": {
        "id": "pSVTK1l0DqvG"
      }
    },
    {
      "cell_type": "code",
      "source": [
        "\"\"\"\n",
        "\n",
        "I allow the files to be manuallly uploaded, after uploading the files will be stored in the Colab environment\n",
        "\n",
        "\"\"\""
      ],
      "metadata": {
        "id": "4JLQpGM4DvHy",
        "colab": {
          "base_uri": "https://localhost:8080/",
          "height": 36
        },
        "outputId": "9f51ff71-3276-497d-ea38-44b55a4affdf"
      },
      "execution_count": 5,
      "outputs": [
        {
          "output_type": "execute_result",
          "data": {
            "text/plain": [
              "'\\n\\nI allow the files to be manuallly uploaded, after uploading the files will be stored in the Colab environment\\n\\n'"
            ],
            "application/vnd.google.colaboratory.intrinsic+json": {
              "type": "string"
            }
          },
          "metadata": {},
          "execution_count": 5
        }
      ]
    },
    {
      "cell_type": "markdown",
      "source": [
        "# Part 1: Capital Asset Pricing Model (CAPM)"
      ],
      "metadata": {
        "id": "9JlqdtkfGEF6"
      }
    },
    {
      "cell_type": "markdown",
      "source": [
        "The Capital Asset Pricing Model (CAPM) is a popular model that describes the relationship between the expected return and the risk of investing in a security.\n",
        "\n",
        "In the following cell, implement the Capital Asset Pricing Model on the data given to you for Part 1.\n",
        "\n",
        "Your final result should be the expected annualized returns for the assets given in the data."
      ],
      "metadata": {
        "id": "yBbpqp1nGG5I"
      }
    },
    {
      "cell_type": "code",
      "source": [
        "# Minipulate date so sorts the dates from old to new\n",
        "part1_data= part1_data.sort_values(by=['Date'])\n",
        "\n",
        "#calculate daily returns for the asset's\n",
        "\n",
        "daily_returns = part1_data.set_index('Date').pct_change().dropna()\n",
        "\n",
        "# create an equally weighted portfolio as a bench mark for avarage market return\n",
        "market_returns = daily_returns.mean(axis=1)\n",
        "\n",
        "#calculate risk free rate\n",
        "annual_risk_free_rate = 0.0408\n",
        "daily_risk_free_rate = (1 + annual_risk_free_rate) ** (1/252) - 1\n",
        "\n",
        "#subtracketed the daily_risk_free_rate to calculate exsess returns\n",
        "excess_returns = daily_returns.subtract(daily_risk_free_rate, axis=0)\n",
        "excess_market_returns = market_returns - daily_risk_free_rate\n",
        "\n",
        "#use the covariance between the asset's excess returns and the market's excess \\n returns, divided by the variance of the market's excess returns.\n",
        "betas = {}\n",
        "for asset in daily_returns.columns:\n",
        "    covar = np.cov(excess_returns[asset], excess_market_returns)[0][1]\n",
        "    variance = np.var(excess_market_returns)\n",
        "    betas[asset] = covar / variance\n",
        "\n",
        "# use the capm formula to calculate the expcted return for each asset\n",
        "expected_returns = daily_risk_free_rate + pd.Series(betas) * (excess_market_returns.mean())\n",
        "\n",
        "expected_annualized_returns = ((1 + expected_returns) ** 252) - 1\n",
        "\n",
        "#Expected annulaized returns for each asset\n",
        "result = pd.DataFrame({\n",
        "    'Beta': pd.Series(betas),\n",
        "    'Expected Annualized Return': expected_annualized_returns\n",
        "})\n",
        "print(result)\n",
        "\n",
        "\n",
        "\n",
        "\n"
      ],
      "metadata": {
        "id": "OfrlwgmuG4Ho",
        "colab": {
          "base_uri": "https://localhost:8080/"
        },
        "outputId": "7f3c1d07-9dd5-4eac-cda4-cabf6f07f0c1"
      },
      "execution_count": 6,
      "outputs": [
        {
          "output_type": "stream",
          "name": "stdout",
          "text": [
            "             Beta  Expected Annualized Return\n",
            "stock1   0.945286                    0.177098\n",
            "stock2   1.181842                    0.213901\n",
            "stock3   0.954551                    0.178518\n",
            "stock4   1.178304                    0.213342\n",
            "stock5   2.103661                    0.368580\n",
            "stock6   1.141268                    0.207508\n",
            "stock7   0.435855                    0.101573\n",
            "stock8   0.506984                    0.111821\n",
            "stock9   0.560957                    0.119660\n",
            "stock10  1.109608                    0.202543\n",
            "stock11  1.577817                    0.278088\n",
            "stock12  1.146227                    0.208288\n",
            "stock13  0.880963                    0.167285\n",
            "stock14  0.455576                    0.104405\n",
            "stock15  0.827071                    0.159125\n"
          ]
        }
      ]
    },
    {
      "cell_type": "markdown",
      "source": [
        "In the following cell, write any comments about your code and reasoning, such as why you implemented the CAPM in a specific way, what you noticed, what the significance of this is, etc."
      ],
      "metadata": {
        "id": "LPJ0NvGdHRgl"
      }
    },
    {
      "cell_type": "code",
      "source": [],
      "metadata": {
        "id": "mrOKc5cUScc1"
      },
      "execution_count": null,
      "outputs": []
    },
    {
      "cell_type": "code",
      "source": [
        "\"\"\"\n",
        "Minipulate Data: Edit data from newest down to olderst down to calculate the daily returns.\n",
        "Daily Returns: Calculating daily percentage returns for each asset to see the day-to-day change in prices.\n",
        "Market Avarge Return: A equally weighted portfolio is used as the bench mark return to compare the assets.\n",
        "Risk-Free Rate: Assumed an annual risk-free rate of 4% and converted it into daily rate.\n",
        "Excess Returns: calculating how much more each asset earned than the risk-free rate both for the assets and the market benchmark average.\n",
        "Beta Calculation: Beta quantifies how sensitive an asset is to market movements using covariance and variance.\n",
        "\n",
        "CAPM Formula: E[R_i = R_f + Beta_i * (E[R_m] - R_f) the formula uses the Beta to adjust the return based on how much market risk\n",
        "the asset carries. The result gives us a theoreticaly justified return for each asset, given its risk relative to the market.\n",
        "\n",
        "Annualized Returns: Converted the daily expected returns into annualized returns by compounding them over (252 trading days).\n",
        "\n",
        "\"\"\""
      ],
      "metadata": {
        "id": "7F4hNQOJHRLl"
      },
      "execution_count": null,
      "outputs": []
    },
    {
      "cell_type": "markdown",
      "source": [
        "# Part 2: Three-Factor Model"
      ],
      "metadata": {
        "id": "hF2WGKmRHqFy"
      }
    },
    {
      "cell_type": "markdown",
      "source": [
        "The objective of this is to create a three-factor model based on the provided data for Part 2.\n",
        "\n",
        "The CAPM is essentially a one-factor model, where the factor is the market risk. We want you to implement a three-factor model of your choosing.\n",
        "\n",
        "Be creative!\n",
        "\n",
        "Your model does not necessarily need to perform well. We are mainly looking to see your creativity and whether you can express your thought process.\n",
        "\n",
        "You are free to pull any additional data, or you can stick with the financial data given to you for this part.\n",
        "\n",
        "In the following cell, implement your three-factor model.\n",
        "\n",
        "Your final result should be the optimal weights for the 15 assets in this mock portfolio."
      ],
      "metadata": {
        "id": "NPPFv2igHsdT"
      }
    },
    {
      "cell_type": "markdown",
      "source": [],
      "metadata": {
        "id": "xec20n0bXQst"
      }
    },
    {
      "cell_type": "code",
      "source": [
        "import pandas as pd\n",
        "import statsmodels.api as sm\n",
        "import numpy as np\n",
        "import cvxpy as cp\n",
        "\n",
        "file_path = 'AssetAllocationChallengePart2Data.xlsx'  # Adjust path as needed\n",
        "part2_data = pd.read_excel(file_path, sheet_name=None)\n",
        "\n",
        "# Test factors\n",
        "test_factor_1 = 'roe'\n",
        "test_factor_2 = 'ebitda'\n",
        "test_factor_3 = 'longTermDebtEquity'\n",
        "\n",
        "# Step 2: Process each sheet to calculate factor returns and fit the three-factor model\n",
        "factor_data = []\n",
        "factor_loadings = []\n",
        "\n",
        "for sheet_name, df in part2_data.items():\n",
        "    # Step 2.1: Ensure 'date' column is in datetime format and sort by date\n",
        "    df['date'] = pd.to_datetime(df['date'], errors='coerce')\n",
        "    df = df.sort_values(by='date')\n",
        "\n",
        "    # Step 2.2: Calculate returns for the asset\n",
        "    if 'revenue' in df.columns:\n",
        "        df['returns'] = df['revenue'].pct_change().fillna(0)\n",
        "\n",
        "    # Step 2.3: Calculate percentage changes (returns) for the three factors\n",
        "    df['Factor_1_return'] = df[test_factor_1].fillna(0)\n",
        "    df['Factor_2_return'] = df[test_factor_2].fillna(0)\n",
        "    df['Factor_3_return'] = df[test_factor_3].fillna(0)\n",
        "\n",
        "\n",
        "    # Step 2.4: Store the factor data in a DataFrame for the regression model\n",
        "    factors = df[['date', 'Factor_1_return', 'Factor_2_return', 'Factor_3_return']].dropna()\n",
        "\n",
        "    # Step 2.5: Merge the factor data with asset returns based on date\n",
        "    merged_data = pd.merge(df[['date', 'returns']], factors, on='date', how='inner')\n",
        "\n",
        "    # Step 3: Fit the Three-Factor Model for each asset\n",
        "    X = sm.add_constant(merged_data[['Factor_1_return', 'Factor_2_return', 'Factor_3_return']])\n",
        "    y = merged_data['returns']\n",
        "\n",
        "    model = sm.OLS(y, X).fit()\n",
        "\n",
        "    # Store the factor loadings (betas) for each asset\n",
        "    factor_loadings.append(model.params[1:])  # Skip the constant term (intercept)\n",
        "\n",
        "    # Store the model if needed for further analysis\n",
        "    factor_data.append((sheet_name, model))\n",
        "\n",
        "# Convert factor loadings into a DataFrame for easy manipulation\n",
        "factor_loadings_df = pd.DataFrame(factor_loadings, columns=[test_factor_1, test_factor_2, test_factor_3])\n",
        "\n",
        "# Step 4: Optimization for Optimal Weights using CVXPY\n",
        "\n",
        "# Define the number of assets\n",
        "n_assets = len(factor_loadings_df)\n",
        "\n",
        "# Step 4.1: Calculate covariance matrix of the ASSET returns, not factor returns\n",
        "# Create a DataFrame with asset returns for all assets\n",
        "all_asset_returns = pd.DataFrame()\n",
        "for sheet_name, df in part2_data.items():\n",
        "    if 'revenue' in df.columns:\n",
        "        all_asset_returns[sheet_name] = df['revenue'].pct_change().fillna(0)\n",
        "\n",
        "# Calculate covariance matrix of asset returns\n",
        "cov_matrix = all_asset_returns.cov().values  # Convert to NumPy array\n",
        "\n",
        "# Step 4.2: Set up the optimization problem using CVXPY\n",
        "# Define the weights as a variable\n",
        "weights = cp.Variable(n_assets)\n",
        "\n",
        "# Define the portfolio variance (the objective function to minimize)\n",
        "portfolio_variance = cp.quad_form(weights, cov_matrix)\n",
        "\n",
        "# Define the objective (minimize variance)\n",
        "objective = cp.Minimize(portfolio_variance)\n",
        "\n",
        "# Define the constraints: weights must sum to 1, and no short selling (non-negative weights)\n",
        "constraints = [\n",
        "    cp.sum(weights) == 1,  # Weights must sum to 1\n",
        "    weights >= 0  # No short selling\n",
        "]\n",
        "\n",
        "# Set up the optimization problem\n",
        "problem = cp.Problem(objective, constraints)\n",
        "\n",
        "# Solve the optimization problem\n",
        "problem.solve()\n",
        "\n",
        "# Get the optimal weights\n",
        "optimal_weights = weights.value\n",
        "\n",
        "# Step 5: Threshold small weights to zero\n",
        "# Define a threshold to treat very small weights as zero\n",
        "threshold = 1e-4\n",
        "optimal_weights_cleaned = np.where(optimal_weights < threshold, 0, optimal_weights)\n",
        "\n",
        "# Display the optimal weights for each asset\n",
        "optimal_weights_df = pd.DataFrame({\n",
        "    'Asset': [sheet_name for sheet_name, _ in factor_data],\n",
        "    'Optimal Weight': optimal_weights_cleaned\n",
        "})\n",
        "\n",
        "print(\"\\nOptimal Weights for Each Asset in the Portfolio:\")\n",
        "print(optimal_weights_df)\n",
        "\n"
      ],
      "metadata": {
        "colab": {
          "base_uri": "https://localhost:8080/"
        },
        "id": "3KnJQUGlcwGJ",
        "outputId": "ba7bdd49-b87a-42c2-b368-a6392d705dab"
      },
      "execution_count": 11,
      "outputs": [
        {
          "output_type": "stream",
          "name": "stdout",
          "text": [
            "\n",
            "Optimal Weights for Each Asset in the Portfolio:\n",
            "   Asset  Optimal Weight\n",
            "0   AAPL        0.000000\n",
            "1   ADBE        0.178735\n",
            "2   AMZN        0.028582\n",
            "3   BIIB        0.017030\n",
            "4      F        0.000000\n",
            "5   MNST        0.000000\n",
            "6   MSFT        0.009683\n",
            "7   NFLX        0.332509\n",
            "8   NVDA        0.023336\n",
            "9    OXY        0.000000\n",
            "10  POOL        0.018725\n",
            "11   RMD        0.143958\n",
            "12  ROST        0.008712\n",
            "13   TAP        0.000000\n",
            "14     V        0.238730\n"
          ]
        },
        {
          "output_type": "stream",
          "name": "stderr",
          "text": [
            "<ipython-input-11-94cf4fcb4bf7>:64: FutureWarning: The default fill_method='pad' in Series.pct_change is deprecated and will be removed in a future version. Either fill in any non-leading NA values prior to calling pct_change or specify 'fill_method=None' to not fill NA values.\n",
            "  all_asset_returns[sheet_name] = df['revenue'].pct_change().fillna(0)\n",
            "<ipython-input-11-94cf4fcb4bf7>:64: FutureWarning: The default fill_method='pad' in Series.pct_change is deprecated and will be removed in a future version. Either fill in any non-leading NA values prior to calling pct_change or specify 'fill_method=None' to not fill NA values.\n",
            "  all_asset_returns[sheet_name] = df['revenue'].pct_change().fillna(0)\n"
          ]
        }
      ]
    },
    {
      "cell_type": "markdown",
      "source": [
        "In the following cell, write any comments about your code and reasoning, such as what your factors were, how you decided on them, what your thought process was, what worked and didn't work, etc. Justify your model as best as you can."
      ],
      "metadata": {
        "id": "EXmB2cPjIpF3"
      }
    },
    {
      "cell_type": "code",
      "source": [
        "\"\"\"\n",
        "# For my factors I used the provided data form 'AssetAllocationChallengePart2Data.xlsx' looking back at it I probiblly should have used yfinnacne\n",
        "in order to get more data so i could have a accurate measue of return rather than using  renenvue to measuere returns. additionally the givin data quarterly\n",
        "this makes itchallangeing to model accurate predictions\n",
        "\n",
        "test_factor_1 = 'roe'\n",
        "test_factor_2 = 'ebitda'\n",
        "test_factor_3 = 'eps'\n",
        "Factor 1:\n",
        "Factor 2:\n",
        "Factor 3:\n",
        "\n",
        "Comments here.\n",
        "\n",
        "\"\"\""
      ],
      "metadata": {
        "id": "rtkvpwscJEgM",
        "colab": {
          "base_uri": "https://localhost:8080/",
          "height": 36
        },
        "outputId": "dc6eed10-c8fb-4c52-a580-930510acd103"
      },
      "execution_count": null,
      "outputs": [
        {
          "output_type": "execute_result",
          "data": {
            "text/plain": [
              "'\\nprint(part2_data.columns)\\nFactor 1:\\nFactor 2:\\nFactor 3:\\n\\nComments here.\\n\\n'"
            ],
            "application/vnd.google.colaboratory.intrinsic+json": {
              "type": "string"
            }
          },
          "metadata": {},
          "execution_count": 24
        }
      ]
    },
    {
      "cell_type": "markdown",
      "source": [
        "# Part 3: Backtesting"
      ],
      "metadata": {
        "id": "_T4zgY7LJkpe"
      }
    },
    {
      "cell_type": "markdown",
      "source": [
        "A very important part of the model-building process is backtesting. Backtesting is where you compare your model's performance against a benchmark to see how well it performs. In this section, you will backtest your model from Part 2 against the S&P 500, and against an equally weighted portfolio of the same equities."
      ],
      "metadata": {
        "id": "_joolQtLJmsc"
      }
    },
    {
      "cell_type": "markdown",
      "source": [
        "In the following cell, backtest your model from Part 2 against the S&P 500. In addition to plotting the returns, provide the Sharpe Ratio, Cumulative Returns, and Volatility against the S&P 500."
      ],
      "metadata": {
        "id": "OEVKbIhjKbpu"
      }
    },
    {
      "cell_type": "code",
      "source": [
        "import matplotlib.pyplot as plt\n",
        "\n",
        "# Simulate daily returns for the S&P 500 (assuming annual return of 8% and daily volatility of 1.5%)\n",
        "np.random.seed(42)  # For reproducibility\n",
        "num_days = len(part2_data[next(iter(part2_data))])  # Number of rows in your data\n",
        "annual_return = 0.08\n",
        "daily_return = (1 + annual_return) ** (1/252) - 1  # 252 trading days in a year\n",
        "daily_volatility = 0.015  # Approximate daily volatility of S&P 500\n",
        "\n",
        "# Generate random daily returns for S&P 500 based on normal distribution\n",
        "sp500_simulated_returns = np.random.normal(daily_return, daily_volatility, num_days)\n",
        "sp500_simulated_cum_returns = np.cumprod(1 + sp500_simulated_returns) - 1\n",
        "\n"
      ],
      "metadata": {
        "id": "DWE4_oenKtIc"
      },
      "execution_count": 12,
      "outputs": []
    },
    {
      "cell_type": "markdown",
      "source": [
        "In the following cell, backtest your model from Part 2 against an equally weighted portfolio of the same equities. In addition to plotting the returns, provide the Sharpe Ratio, Cumulative Returns, and Volatility against the equally weighted portfolio."
      ],
      "metadata": {
        "id": "dxR2ZllbKtf5"
      }
    },
    {
      "cell_type": "code",
      "source": [
        "# Chat-GPT generated back test\n",
        "#Step 1: Calculate portfolio returns using revenue as a proxy\n",
        "asset_returns = pd.DataFrame()\n",
        "\n",
        "for sheet_name, model in factor_data:\n",
        "    df = part2_data[sheet_name]\n",
        "    df['date'] = pd.to_datetime(df['date'])\n",
        "\n",
        "    # Calculate returns based on revenue if 'returns' column does not exist\n",
        "    df['revenue_returns'] = df['revenue'].pct_change().fillna(0)\n",
        "\n",
        "    # Store the revenue returns for each asset in the asset_returns DataFrame\n",
        "    asset_returns[sheet_name] = df['revenue_returns']\n",
        "\n",
        "# Calculate weighted portfolio returns based on optimal weights from Part 2\n",
        "optimal_weights = np.array(optimal_weights)  # Ensure weights are an array\n",
        "portfolio_returns = asset_returns.dot(optimal_weights)\n",
        "\n",
        "# Calculate equally weighted portfolio returns\n",
        "equally_weighted_returns = asset_returns.mean(axis=1)\n",
        "\n",
        "# Create a DataFrame to store all returns\n",
        "backtest_data = pd.DataFrame({\n",
        "    'date': part2_data[next(iter(part2_data))]['date'],\n",
        "    'Portfolio_Returns': portfolio_returns,\n",
        "    'Equally_Weighted_Returns': equally_weighted_returns,\n",
        "    'SP500_Simulated_Returns': sp500_simulated_returns\n",
        "})\n",
        "\n",
        "# Step 2: Calculate cumulative returns for each portfolio\n",
        "backtest_data['Portfolio_Cum_Returns'] = (1 + backtest_data['Portfolio_Returns']).cumprod() - 1\n",
        "backtest_data['Equally_Weighted_Cum_Returns'] = (1 + backtest_data['Equally_Weighted_Returns']).cumprod() - 1\n",
        "backtest_data['SP500_Simulated_Cum_Returns'] = sp500_simulated_cum_returns\n",
        "\n",
        "# Step 3: Calculate performance metrics (Sharpe Ratio, Volatility)\n",
        "risk_free_rate = 0.01  # Assuming a 1% risk-free rate\n",
        "\n",
        "# Portfolio metrics\n",
        "portfolio_mean_return = backtest_data['Portfolio_Returns'].mean()\n",
        "portfolio_volatility = backtest_data['Portfolio_Returns'].std()\n",
        "portfolio_sharpe_ratio = (portfolio_mean_return - risk_free_rate) / portfolio_volatility\n",
        "\n",
        "# Equally weighted portfolio metrics\n",
        "equally_weighted_mean_return = backtest_data['Equally_Weighted_Returns'].mean()\n",
        "equally_weighted_volatility = backtest_data['Equally_Weighted_Returns'].std()\n",
        "equally_weighted_sharpe_ratio = (equally_weighted_mean_return - risk_free_rate) / equally_weighted_volatility\n",
        "\n",
        "# Simulated S&P 500 metrics\n",
        "sp500_mean_return = backtest_data['SP500_Simulated_Returns'].mean()\n",
        "sp500_volatility = backtest_data['SP500_Simulated_Returns'].std()\n",
        "sp500_sharpe_ratio = (sp500_mean_return - risk_free_rate) / sp500_volatility\n",
        "\n",
        "# Step 4: Plot cumulative returns\n",
        "plt.figure(figsize=(10, 6))\n",
        "plt.plot(backtest_data['date'], backtest_data['Portfolio_Cum_Returns'], label='Optimized Portfolio Cumulative Returns')\n",
        "plt.plot(backtest_data['date'], backtest_data['Equally_Weighted_Cum_Returns'], label='Equally Weighted Portfolio Cumulative Returns')\n",
        "plt.plot(backtest_data['date'], backtest_data['SP500_Simulated_Cum_Returns'], label='Simulated S&P 500 Cumulative Returns')\n",
        "plt.title('Backtesting: Portfolio vs Equally Weighted Portfolio vs Simulated S&P 500')\n",
        "plt.xlabel('Date')\n",
        "plt.ylabel('Cumulative Returns')\n",
        "plt.legend()\n",
        "plt.show()\n",
        "\n",
        "# Step 5: Print performance metrics\n",
        "print(\"Performance Metrics:\")\n",
        "print(f\"Optimized Portfolio Sharpe Ratio: {portfolio_sharpe_ratio}\")\n",
        "print(f\"Optimized Portfolio Volatility: {portfolio_volatility}\")\n",
        "print(f\"Equally Weighted Portfolio Sharpe Ratio: {equally_weighted_sharpe_ratio}\")\n",
        "print(f\"Equally Weighted Portfolio Volatility: {equally_weighted_volatility}\")\n",
        "print(f\"Simulated S&P 500 Sharpe Ratio: {sp500_sharpe_ratio}\")\n",
        "print(f\"Simulated S&P 500 Volatility: {sp500_volatility}\")\n"
      ],
      "metadata": {
        "id": "YwSGwDz6KzMX",
        "colab": {
          "base_uri": "https://localhost:8080/",
          "height": 775
        },
        "outputId": "9295c709-dbeb-4027-fb7d-23e3d8618114"
      },
      "execution_count": 13,
      "outputs": [
        {
          "output_type": "stream",
          "name": "stderr",
          "text": [
            "<ipython-input-13-1213e5ddd097>:9: FutureWarning: The default fill_method='pad' in Series.pct_change is deprecated and will be removed in a future version. Either fill in any non-leading NA values prior to calling pct_change or specify 'fill_method=None' to not fill NA values.\n",
            "  df['revenue_returns'] = df['revenue'].pct_change().fillna(0)\n",
            "<ipython-input-13-1213e5ddd097>:9: FutureWarning: The default fill_method='pad' in Series.pct_change is deprecated and will be removed in a future version. Either fill in any non-leading NA values prior to calling pct_change or specify 'fill_method=None' to not fill NA values.\n",
            "  df['revenue_returns'] = df['revenue'].pct_change().fillna(0)\n"
          ]
        },
        {
          "output_type": "display_data",
          "data": {
            "text/plain": [
              "<Figure size 1000x600 with 1 Axes>"
            ],
            "image/png": "[encoded data removed]"
          },
          "metadata": {}
        },
        {
          "output_type": "stream",
          "name": "stdout",
          "text": [
            "Performance Metrics:\n",
            "Optimized Portfolio Sharpe Ratio: -1.877602394107816\n",
            "Optimized Portfolio Volatility: 0.022747998331024956\n",
            "Equally Weighted Portfolio Sharpe Ratio: -0.4116080149941521\n",
            "Equally Weighted Portfolio Volatility: 0.06778153557247643\n",
            "Simulated S&P 500 Sharpe Ratio: -0.8180458486169304\n",
            "Simulated S&P 500 Volatility: 0.013819897937015128\n"
          ]
        }
      ]
    },
    {
      "cell_type": "markdown",
      "source": [
        "In the following cell, write any comments about your code and reasoning, such as what the takeaways are from the backtesting, what you noticed about the results, what they tell you, what you would do differently next time, etc."
      ],
      "metadata": {
        "id": "EgSZ3A0uK5Q2"
      }
    },
    {
      "cell_type": "code",
      "source": [
        "\"\"\"\n",
        "\n",
        "The results of my backtest revealed that my optimized portfolio had a terrible Sharpe Ratio of -1.88,\n",
        "which indicates severe underperformance relative to the risk taken. This outcome signals that my optimization\n",
        "process missed the mark and led to a portfolio that was too risky for the meager returns it generated.\n",
        "One major issue was that I used revenue as a proxy for returns, which is not ideal—using actual stock returns\n",
        "from a source like yfinance would have provided more accurate inputs for both the optimization and the backtest.\n",
        "Additionally, the factors I chose, like ROE, EBITDA, and EPS, may not have been the best predictors of future returns.\n",
        "Going forward, I would explore more reliable factors, such as momentum, size, or value.\n",
        "Furthermore, instead of simulating the S&P 500, I would use actual historical data for a more meaningful benchmark.\n",
        "Lastly, the optimization process itself likely overfitted certain assets, leading to poor risk-adjusted returns,\n",
        "so I'd adjust it by incorporating regularization or additional constraints to prevent overconcentration in underperforming assets.\n",
        "\"\"\""
      ],
      "metadata": {
        "id": "KY5JP3Y9LJDS"
      },
      "execution_count": null,
      "outputs": []
    },
    {
      "cell_type": "markdown",
      "source": [
        "# References, Reflection, and Submission"
      ],
      "metadata": {
        "id": "VZqSUCaULOgb"
      }
    },
    {
      "cell_type": "markdown",
      "source": [
        "In the following cell, list any references and resources you used to help you with this coding challenge (including ChatGPT), and what you got out of each resource. There's nothing wrong with getting help, but it's important to cite when you do!"
      ],
      "metadata": {
        "id": "mklOU4uJLVaf"
      }
    },
    {
      "cell_type": "code",
      "source": [
        "\"\"\"\n",
        "\n",
        "\n",
        "In Part 2 of the backtest, I relied on ChatGPT-4 to assist me in building and fine-tuning the model.\n",
        "One of the main challenges I faced was creating a proper benchmark for the portfolio using only the provided data,\n",
        "without utilizing yfinance for actual stock price data. In hindsight, my reluctance to use yfinance was a mistake.\n",
        "I now realize that incorporating historical stock prices would have significantly improved the accuracy of the benchmark and made my model more realistic.\n",
        "As a result, the plot I generated looks disjointed. Using actual S&P 500 data would have provided a much clearer picture and more meaningful insights for comparison,\n",
        "which is something I would definitely correct if I were to redo the backtest.\n",
        "\"\"\""
      ],
      "metadata": {
        "id": "fqrIrLx_LVDC"
      },
      "execution_count": null,
      "outputs": []
    },
    {
      "cell_type": "markdown",
      "source": [
        "In the following cell, write a brief reflection on what you learned from this challenge. What did you do well? What do you wish you had done differently? Is there anything else you would like to add about your code or process that would help us understand?"
      ],
      "metadata": {
        "id": "NHHy70EpLhPh"
      }
    },
    {
      "cell_type": "code",
      "source": [
        "\"\"\"\n",
        "\n",
        "This challenge taught me a lot about thinking outside the box and creatively working with the data provided.\n",
        "I appreciated how it pushed me to explore different financial metrics within the quarterly reports of the assets and consider\n",
        "how those factors might influence returns. One thing I did well was leveraging those metrics, such as ROE, EBITDA, and EPS, to create a model and apply optimization techniques.\n",
        "However, I wish I had used actual stock returns from the start, as relying on revenue as a benchmark for returns turned out to be a limiting factor\n",
        "in the accuracy of my model. If I had used yfinance to pull stock price data, I would have generated more reliable results,\n",
        "especially when benchmarking against the S&P 500. Additionally, my choice of factors could have been more diversified possibly including momentum or value-based metrics\n",
        "for better predictive power. Overall, while I learned a lot from this process,\n",
        "I recognize that having access to more comprehensive data and refining my factor selection would have significantly improved the final output.\n",
        "\n",
        "\"\"\""
      ],
      "metadata": {
        "id": "nR34ZncELhAB"
      },
      "execution_count": null,
      "outputs": []
    },
    {
      "cell_type": "markdown",
      "source": [
        "Submit this template file in the format \"firstname_lastname_aa.ipynb\".\n",
        "\n",
        "Example: \"jason_bhalla_aa.ipynb\""
      ],
      "metadata": {
        "id": "awN59BLhLvwT"
      }
    }
  ]
}